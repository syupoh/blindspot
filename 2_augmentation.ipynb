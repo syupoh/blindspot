{
 "metadata": {
  "language_info": {
   "codemirror_mode": {
    "name": "ipython",
    "version": 3
   },
   "file_extension": ".py",
   "mimetype": "text/x-python",
   "name": "python",
   "nbconvert_exporter": "python",
   "pygments_lexer": "ipython3",
   "version": "3.7.8"
  },
  "orig_nbformat": 2,
  "kernelspec": {
   "name": "python378jvsc74a57bd0ce9b86f5917e7a322e15ce17822cdc70de43240848047573279df18af807ad7c",
   "display_name": "Python 3.7.8 64-bit ('moon': conda)"
  },
  "metadata": {
   "interpreter": {
    "hash": "ce9b86f5917e7a322e15ce17822cdc70de43240848047573279df18af807ad7c"
   }
  }
 },
 "nbformat": 4,
 "nbformat_minor": 2,
 "cells": [
  {
   "source": [
    "## ImageDataGenerator"
   ],
   "cell_type": "markdown",
   "metadata": {}
  },
  {
   "cell_type": "code",
   "execution_count": 2,
   "metadata": {},
   "outputs": [],
   "source": [
    "import tensorflow as tf\n",
    "\n",
    "from tensorflow.keras.preprocessing import image_dataset_from_directory\n",
    "from tensorflow.keras.preprocessing.image import ImageDataGenerator\n"
   ]
  },
  {
   "cell_type": "code",
   "execution_count": 3,
   "metadata": {},
   "outputs": [
    {
     "output_type": "stream",
     "name": "stdout",
     "text": [
      "Found 6938 files belonging to 26 classes.\n"
     ]
    }
   ],
   "source": [
    "dataset = image_dataset_from_directory(\n",
    "    directory = '/Data/jhshin/jfd_dataset/d1.11/',\n",
    "    label_mode = 'categorical',\n",
    "    batch_size = 32,\n",
    "    image_size = (299, 299),\n",
    "    shuffle = True\n",
    ")"
   ]
  },
  {
   "cell_type": "code",
   "execution_count": 9,
   "metadata": {},
   "outputs": [],
   "source": [
    "datagen = ImageDataGenerator(\n",
    "    width_shift_range = 0.1,\n",
    "    height_shift_range = 0.1,\n",
    "    rotation_range = 10,\n",
    ")"
   ]
  },
  {
   "source": [
    "## Augmentor"
   ],
   "cell_type": "markdown",
   "metadata": {}
  },
  {
   "cell_type": "code",
   "execution_count": 7,
   "metadata": {},
   "outputs": [
    {
     "output_type": "stream",
     "name": "stdout",
     "text": [
      "Initialised with 229 image(s) found.\nOutput directory set to /Data/jhshin/jfd_dataset/d1.11_aug/angle-AW."
     ]
    }
   ],
   "source": [
    "import Augmentor\n",
    "p = Augmentor.Pipeline(source_directory=\"/Data/jhshin/jfd_dataset/d1.11/angle-AW\",output_directory=\"/Data/jhshin/jfd_dataset/d1.11_aug/angle-AW\")"
   ]
  },
  {
   "cell_type": "code",
   "execution_count": 3,
   "metadata": {},
   "outputs": [],
   "source": [
    "p.skew(probability = 0.5)"
   ]
  },
  {
   "cell_type": "code",
   "execution_count": 4,
   "metadata": {},
   "outputs": [
    {
     "output_type": "stream",
     "name": "stderr",
     "text": [
      "Processing <PIL.Image.Image image mode=RGB size=1158x1009 at 0x7FC7A019FAD0>: 100%|██████████| 10/10 [00:00<00:00, 13.78 Samples/s]\n"
     ]
    }
   ],
   "source": [
    "p.sample(10)"
   ]
  },
  {
   "cell_type": "code",
   "execution_count": null,
   "metadata": {},
   "outputs": [],
   "source": []
  }
 ]
}