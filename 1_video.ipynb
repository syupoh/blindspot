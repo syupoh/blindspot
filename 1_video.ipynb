{
 "metadata": {
  "language_info": {
   "codemirror_mode": {
    "name": "ipython",
    "version": 3
   },
   "file_extension": ".py",
   "mimetype": "text/x-python",
   "name": "python",
   "nbconvert_exporter": "python",
   "pygments_lexer": "ipython3",
   "version": "3.7.8"
  },
  "orig_nbformat": 2,
  "kernelspec": {
   "name": "python378jvsc74a57bd0ce9b86f5917e7a322e15ce17822cdc70de43240848047573279df18af807ad7c",
   "display_name": "Python 3.7.8 64-bit ('moon': conda)"
  },
  "metadata": {
   "interpreter": {
    "hash": "ce9b86f5917e7a322e15ce17822cdc70de43240848047573279df18af807ad7c"
   }
  }
 },
 "nbformat": 4,
 "nbformat_minor": 2,
 "cells": [
  {
   "source": [
    "## Video Crop\n",
    "\n",
    "Old version of video.py"
   ],
   "cell_type": "markdown",
   "metadata": {}
  },
  {
   "cell_type": "code",
   "execution_count": 1,
   "metadata": {},
   "outputs": [],
   "source": [
    "import os\n",
    "import cv2\n",
    "import argparse\n",
    "from collections import deque\n",
    "\n",
    "import tensorflow as tf\n",
    "\n",
    "from inference import inference\n",
    "from models import select_model\n",
    "from video import EGDVideoDataset\n",
    "\n"
   ]
  },
  {
   "cell_type": "code",
   "execution_count": 2,
   "metadata": {},
   "outputs": [
    {
     "output_type": "stream",
     "name": "stderr",
     "text": [
      "100%|██████████| 5/5 [00:00<00:00, 25858.84it/s]Data successfully loaded!\n",
      "\n"
     ]
    }
   ],
   "source": [
    "# os.environ[\"CUDA_VISIBLE_DEVICES\"] = '4'\n",
    "# ckpt_path = '/Data/jhshin/ckpt/d1.9.3_0511/best_cnn_20210511.h5'\n",
    "\n",
    "# image_shape = (299, 299, 3)\n",
    "# model_name = \"xception\"\n",
    "\n",
    "# test_path = '/Data/jhshin/videos/KYS.mpg'\n",
    "\n",
    "# dataset = EGDVideoDataset(test_path, batch_size=4, image_shape=image_shape, scale = True)\n",
    "# print('Data successfully loaded!')\n",
    "\n"
   ]
  },
  {
   "cell_type": "code",
   "execution_count": 3,
   "metadata": {},
   "outputs": [
    {
     "output_type": "stream",
     "name": "stdout",
     "text": [
      "2/2 [==============================] - 0s 54ms/step\n"
     ]
    }
   ],
   "source": [
    "model = select_model(model=model_name, weights=None)\n",
    "model.load_weights(ckpt_path)\n",
    "\n",
    "\n",
    "results = inference(model, dataset, test_path[:-4])\n",
    "# print(list(results))"
   ]
  },
  {
   "cell_type": "code",
   "execution_count": 4,
   "metadata": {},
   "outputs": [
    {
     "output_type": "stream",
     "name": "stderr",
     "text": [
      "  0%|          | 0/5 [00:00<?, ?it/s]/Data/jhshin/videos/KYS_cropped/frame3.jpg\n",
      " 40%|████      | 2/5 [00:00<00:00, 15.56it/s]/Data/jhshin/videos/KYS_cropped/frame4.jpg\n",
      "/Data/jhshin/videos/KYS_cropped/frame2.jpg\n",
      "/Data/jhshin/videos/KYS_cropped/frame1.jpg\n",
      "100%|██████████| 5/5 [00:00<00:00, 14.53it/s]/Data/jhshin/videos/KYS_cropped/frame0.jpg\n",
      "\n"
     ]
    }
   ],
   "source": [
    "frame_path = '/Data/jhshin/videos/KYS'\n",
    "\n",
    "dataset.crop_and_add_caption(frame_path, results, crop_size = (284, 36, 2, 13))"
   ]
  },
  {
   "cell_type": "code",
   "execution_count": null,
   "metadata": {},
   "outputs": [],
   "source": []
  },
  {
   "source": [
    "## Video FPS"
   ],
   "cell_type": "markdown",
   "metadata": {}
  },
  {
   "cell_type": "code",
   "execution_count": 1,
   "metadata": {},
   "outputs": [],
   "source": [
    "import os\n",
    "import cv2\n",
    "import argparse\n",
    "from collections import deque\n",
    "\n",
    "import tensorflow as tf\n",
    "\n",
    "from inference import inference\n",
    "from models import select_model\n",
    "from video import EGDVideoDataset"
   ]
  },
  {
   "cell_type": "code",
   "execution_count": 4,
   "metadata": {},
   "outputs": [],
   "source": [
    "os.environ[\"CUDA_VISIBLE_DEVICES\"] = '4'\n",
    "ckpt_path = '/Data/jhshin/ckpt/d1.9.3_0511/best_cnn_20210511.h5'\n",
    "\n",
    "image_shape = (299, 299, 3)\n",
    "model_name = \"xception\"\n",
    "\n",
    "test_path = '/Data/jhshin/videos/KYS.mpg'\n",
    "\n",
    "cap = cv2.VideoCapture(test_path)\n",
    "# dataset = EGDVideoDataset(test_path, batch_size=4, image_shape=image_shape, scale = True, crop_size = (669, 1, 5, 1))\n"
   ]
  },
  {
   "cell_type": "code",
   "execution_count": 5,
   "metadata": {},
   "outputs": [
    {
     "output_type": "execute_result",
     "data": {
      "text/plain": [
       "16834.0"
      ]
     },
     "metadata": {},
     "execution_count": 5
    }
   ],
   "source": [
    "cap.get(cv2.CAP_PROP_FRAME_COUNT)"
   ]
  },
  {
   "cell_type": "code",
   "execution_count": 8,
   "metadata": {},
   "outputs": [
    {
     "output_type": "execute_result",
     "data": {
      "text/plain": [
       "60.0"
      ]
     },
     "metadata": {},
     "execution_count": 8
    }
   ],
   "source": [
    "cap.get(cv2.CAP_PROP_FPS)"
   ]
  },
  {
   "cell_type": "code",
   "execution_count": null,
   "metadata": {},
   "outputs": [],
   "source": []
  }
 ]
}